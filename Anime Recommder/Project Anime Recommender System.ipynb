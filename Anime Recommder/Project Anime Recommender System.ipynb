{
 "cells": [
  {
   "cell_type": "markdown",
   "id": "686d5a8c",
   "metadata": {},
   "source": [
    "# <span style=\"color:navy\"> Recommender System </span>\n",
    "- The objective of this assignment is to implement a recommendation system using cosine similarity on an anime dataset. "
   ]
  },
  {
   "cell_type": "code",
   "execution_count": null,
   "id": "199985ef",
   "metadata": {},
   "outputs": [],
   "source": []
  },
  {
   "cell_type": "markdown",
   "id": "49b87883",
   "metadata": {},
   "source": [
    "# <span style=\"color:brown\">Task 1: Data Preprocessing"
   ]
  },
  {
   "cell_type": "code",
   "execution_count": 1,
   "id": "b4e33629",
   "metadata": {},
   "outputs": [],
   "source": [
    "import pandas as pd"
   ]
  },
  {
   "cell_type": "code",
   "execution_count": 2,
   "id": "357efbbe",
   "metadata": {},
   "outputs": [
    {
     "data": {
      "text/html": [
       "<div>\n",
       "<style scoped>\n",
       "    .dataframe tbody tr th:only-of-type {\n",
       "        vertical-align: middle;\n",
       "    }\n",
       "\n",
       "    .dataframe tbody tr th {\n",
       "        vertical-align: top;\n",
       "    }\n",
       "\n",
       "    .dataframe thead th {\n",
       "        text-align: right;\n",
       "    }\n",
       "</style>\n",
       "<table border=\"1\" class=\"dataframe\">\n",
       "  <thead>\n",
       "    <tr style=\"text-align: right;\">\n",
       "      <th></th>\n",
       "      <th>anime_id</th>\n",
       "      <th>name</th>\n",
       "      <th>genre</th>\n",
       "      <th>type</th>\n",
       "      <th>episodes</th>\n",
       "      <th>rating</th>\n",
       "      <th>members</th>\n",
       "    </tr>\n",
       "  </thead>\n",
       "  <tbody>\n",
       "    <tr>\n",
       "      <th>0</th>\n",
       "      <td>32281</td>\n",
       "      <td>Kimi no Na wa.</td>\n",
       "      <td>Drama, Romance, School, Supernatural</td>\n",
       "      <td>Movie</td>\n",
       "      <td>1</td>\n",
       "      <td>9.37</td>\n",
       "      <td>200630</td>\n",
       "    </tr>\n",
       "    <tr>\n",
       "      <th>1</th>\n",
       "      <td>5114</td>\n",
       "      <td>Fullmetal Alchemist: Brotherhood</td>\n",
       "      <td>Action, Adventure, Drama, Fantasy, Magic, Mili...</td>\n",
       "      <td>TV</td>\n",
       "      <td>64</td>\n",
       "      <td>9.26</td>\n",
       "      <td>793665</td>\n",
       "    </tr>\n",
       "    <tr>\n",
       "      <th>2</th>\n",
       "      <td>28977</td>\n",
       "      <td>Gintama°</td>\n",
       "      <td>Action, Comedy, Historical, Parody, Samurai, S...</td>\n",
       "      <td>TV</td>\n",
       "      <td>51</td>\n",
       "      <td>9.25</td>\n",
       "      <td>114262</td>\n",
       "    </tr>\n",
       "    <tr>\n",
       "      <th>3</th>\n",
       "      <td>9253</td>\n",
       "      <td>Steins;Gate</td>\n",
       "      <td>Sci-Fi, Thriller</td>\n",
       "      <td>TV</td>\n",
       "      <td>24</td>\n",
       "      <td>9.17</td>\n",
       "      <td>673572</td>\n",
       "    </tr>\n",
       "    <tr>\n",
       "      <th>4</th>\n",
       "      <td>9969</td>\n",
       "      <td>Gintama&amp;#039;</td>\n",
       "      <td>Action, Comedy, Historical, Parody, Samurai, S...</td>\n",
       "      <td>TV</td>\n",
       "      <td>51</td>\n",
       "      <td>9.16</td>\n",
       "      <td>151266</td>\n",
       "    </tr>\n",
       "    <tr>\n",
       "      <th>...</th>\n",
       "      <td>...</td>\n",
       "      <td>...</td>\n",
       "      <td>...</td>\n",
       "      <td>...</td>\n",
       "      <td>...</td>\n",
       "      <td>...</td>\n",
       "      <td>...</td>\n",
       "    </tr>\n",
       "    <tr>\n",
       "      <th>12289</th>\n",
       "      <td>9316</td>\n",
       "      <td>Toushindai My Lover: Minami tai Mecha-Minami</td>\n",
       "      <td>Hentai</td>\n",
       "      <td>OVA</td>\n",
       "      <td>1</td>\n",
       "      <td>4.15</td>\n",
       "      <td>211</td>\n",
       "    </tr>\n",
       "    <tr>\n",
       "      <th>12290</th>\n",
       "      <td>5543</td>\n",
       "      <td>Under World</td>\n",
       "      <td>Hentai</td>\n",
       "      <td>OVA</td>\n",
       "      <td>1</td>\n",
       "      <td>4.28</td>\n",
       "      <td>183</td>\n",
       "    </tr>\n",
       "    <tr>\n",
       "      <th>12291</th>\n",
       "      <td>5621</td>\n",
       "      <td>Violence Gekiga David no Hoshi</td>\n",
       "      <td>Hentai</td>\n",
       "      <td>OVA</td>\n",
       "      <td>4</td>\n",
       "      <td>4.88</td>\n",
       "      <td>219</td>\n",
       "    </tr>\n",
       "    <tr>\n",
       "      <th>12292</th>\n",
       "      <td>6133</td>\n",
       "      <td>Violence Gekiga Shin David no Hoshi: Inma Dens...</td>\n",
       "      <td>Hentai</td>\n",
       "      <td>OVA</td>\n",
       "      <td>1</td>\n",
       "      <td>4.98</td>\n",
       "      <td>175</td>\n",
       "    </tr>\n",
       "    <tr>\n",
       "      <th>12293</th>\n",
       "      <td>26081</td>\n",
       "      <td>Yasuji no Pornorama: Yacchimae!!</td>\n",
       "      <td>Hentai</td>\n",
       "      <td>Movie</td>\n",
       "      <td>1</td>\n",
       "      <td>5.46</td>\n",
       "      <td>142</td>\n",
       "    </tr>\n",
       "  </tbody>\n",
       "</table>\n",
       "<p>12294 rows × 7 columns</p>\n",
       "</div>"
      ],
      "text/plain": [
       "       anime_id                                               name  \\\n",
       "0         32281                                     Kimi no Na wa.   \n",
       "1          5114                   Fullmetal Alchemist: Brotherhood   \n",
       "2         28977                                           Gintama°   \n",
       "3          9253                                        Steins;Gate   \n",
       "4          9969                                      Gintama&#039;   \n",
       "...         ...                                                ...   \n",
       "12289      9316       Toushindai My Lover: Minami tai Mecha-Minami   \n",
       "12290      5543                                        Under World   \n",
       "12291      5621                     Violence Gekiga David no Hoshi   \n",
       "12292      6133  Violence Gekiga Shin David no Hoshi: Inma Dens...   \n",
       "12293     26081                   Yasuji no Pornorama: Yacchimae!!   \n",
       "\n",
       "                                                   genre   type episodes  \\\n",
       "0                   Drama, Romance, School, Supernatural  Movie        1   \n",
       "1      Action, Adventure, Drama, Fantasy, Magic, Mili...     TV       64   \n",
       "2      Action, Comedy, Historical, Parody, Samurai, S...     TV       51   \n",
       "3                                       Sci-Fi, Thriller     TV       24   \n",
       "4      Action, Comedy, Historical, Parody, Samurai, S...     TV       51   \n",
       "...                                                  ...    ...      ...   \n",
       "12289                                             Hentai    OVA        1   \n",
       "12290                                             Hentai    OVA        1   \n",
       "12291                                             Hentai    OVA        4   \n",
       "12292                                             Hentai    OVA        1   \n",
       "12293                                             Hentai  Movie        1   \n",
       "\n",
       "       rating  members  \n",
       "0        9.37   200630  \n",
       "1        9.26   793665  \n",
       "2        9.25   114262  \n",
       "3        9.17   673572  \n",
       "4        9.16   151266  \n",
       "...       ...      ...  \n",
       "12289    4.15      211  \n",
       "12290    4.28      183  \n",
       "12291    4.88      219  \n",
       "12292    4.98      175  \n",
       "12293    5.46      142  \n",
       "\n",
       "[12294 rows x 7 columns]"
      ]
     },
     "execution_count": 2,
     "metadata": {},
     "output_type": "execute_result"
    }
   ],
   "source": [
    "# Load the dataset\n",
    "anime = pd.read_csv(r'C:\\Users\\Aabshaar\\Downloads\\Recommendation System\\Recommendation System\\anime.csv')\n",
    "anime"
   ]
  },
  {
   "cell_type": "code",
   "execution_count": null,
   "id": "c9ad5181",
   "metadata": {},
   "outputs": [],
   "source": []
  },
  {
   "cell_type": "markdown",
   "id": "5044d374",
   "metadata": {},
   "source": [
    "Exploring the  dataset to understand its structure and attributes"
   ]
  },
  {
   "cell_type": "code",
   "execution_count": 3,
   "id": "1519f896",
   "metadata": {},
   "outputs": [
    {
     "data": {
      "text/html": [
       "<div>\n",
       "<style scoped>\n",
       "    .dataframe tbody tr th:only-of-type {\n",
       "        vertical-align: middle;\n",
       "    }\n",
       "\n",
       "    .dataframe tbody tr th {\n",
       "        vertical-align: top;\n",
       "    }\n",
       "\n",
       "    .dataframe thead th {\n",
       "        text-align: right;\n",
       "    }\n",
       "</style>\n",
       "<table border=\"1\" class=\"dataframe\">\n",
       "  <thead>\n",
       "    <tr style=\"text-align: right;\">\n",
       "      <th></th>\n",
       "      <th>anime_id</th>\n",
       "      <th>name</th>\n",
       "      <th>genre</th>\n",
       "      <th>type</th>\n",
       "      <th>episodes</th>\n",
       "      <th>rating</th>\n",
       "      <th>members</th>\n",
       "    </tr>\n",
       "  </thead>\n",
       "  <tbody>\n",
       "    <tr>\n",
       "      <th>0</th>\n",
       "      <td>32281</td>\n",
       "      <td>Kimi no Na wa.</td>\n",
       "      <td>Drama, Romance, School, Supernatural</td>\n",
       "      <td>Movie</td>\n",
       "      <td>1</td>\n",
       "      <td>9.37</td>\n",
       "      <td>200630</td>\n",
       "    </tr>\n",
       "    <tr>\n",
       "      <th>1</th>\n",
       "      <td>5114</td>\n",
       "      <td>Fullmetal Alchemist: Brotherhood</td>\n",
       "      <td>Action, Adventure, Drama, Fantasy, Magic, Mili...</td>\n",
       "      <td>TV</td>\n",
       "      <td>64</td>\n",
       "      <td>9.26</td>\n",
       "      <td>793665</td>\n",
       "    </tr>\n",
       "    <tr>\n",
       "      <th>2</th>\n",
       "      <td>28977</td>\n",
       "      <td>Gintama°</td>\n",
       "      <td>Action, Comedy, Historical, Parody, Samurai, S...</td>\n",
       "      <td>TV</td>\n",
       "      <td>51</td>\n",
       "      <td>9.25</td>\n",
       "      <td>114262</td>\n",
       "    </tr>\n",
       "    <tr>\n",
       "      <th>3</th>\n",
       "      <td>9253</td>\n",
       "      <td>Steins;Gate</td>\n",
       "      <td>Sci-Fi, Thriller</td>\n",
       "      <td>TV</td>\n",
       "      <td>24</td>\n",
       "      <td>9.17</td>\n",
       "      <td>673572</td>\n",
       "    </tr>\n",
       "    <tr>\n",
       "      <th>4</th>\n",
       "      <td>9969</td>\n",
       "      <td>Gintama&amp;#039;</td>\n",
       "      <td>Action, Comedy, Historical, Parody, Samurai, S...</td>\n",
       "      <td>TV</td>\n",
       "      <td>51</td>\n",
       "      <td>9.16</td>\n",
       "      <td>151266</td>\n",
       "    </tr>\n",
       "  </tbody>\n",
       "</table>\n",
       "</div>"
      ],
      "text/plain": [
       "   anime_id                              name  \\\n",
       "0     32281                    Kimi no Na wa.   \n",
       "1      5114  Fullmetal Alchemist: Brotherhood   \n",
       "2     28977                          Gintama°   \n",
       "3      9253                       Steins;Gate   \n",
       "4      9969                     Gintama&#039;   \n",
       "\n",
       "                                               genre   type episodes  rating  \\\n",
       "0               Drama, Romance, School, Supernatural  Movie        1    9.37   \n",
       "1  Action, Adventure, Drama, Fantasy, Magic, Mili...     TV       64    9.26   \n",
       "2  Action, Comedy, Historical, Parody, Samurai, S...     TV       51    9.25   \n",
       "3                                   Sci-Fi, Thriller     TV       24    9.17   \n",
       "4  Action, Comedy, Historical, Parody, Samurai, S...     TV       51    9.16   \n",
       "\n",
       "   members  \n",
       "0   200630  \n",
       "1   793665  \n",
       "2   114262  \n",
       "3   673572  \n",
       "4   151266  "
      ]
     },
     "execution_count": 3,
     "metadata": {},
     "output_type": "execute_result"
    }
   ],
   "source": [
    "anime.head()"
   ]
  },
  {
   "cell_type": "code",
   "execution_count": 4,
   "id": "2255e282",
   "metadata": {},
   "outputs": [
    {
     "data": {
      "text/html": [
       "<div>\n",
       "<style scoped>\n",
       "    .dataframe tbody tr th:only-of-type {\n",
       "        vertical-align: middle;\n",
       "    }\n",
       "\n",
       "    .dataframe tbody tr th {\n",
       "        vertical-align: top;\n",
       "    }\n",
       "\n",
       "    .dataframe thead th {\n",
       "        text-align: right;\n",
       "    }\n",
       "</style>\n",
       "<table border=\"1\" class=\"dataframe\">\n",
       "  <thead>\n",
       "    <tr style=\"text-align: right;\">\n",
       "      <th></th>\n",
       "      <th>anime_id</th>\n",
       "      <th>name</th>\n",
       "      <th>genre</th>\n",
       "      <th>type</th>\n",
       "      <th>episodes</th>\n",
       "      <th>rating</th>\n",
       "      <th>members</th>\n",
       "    </tr>\n",
       "  </thead>\n",
       "  <tbody>\n",
       "    <tr>\n",
       "      <th>12289</th>\n",
       "      <td>9316</td>\n",
       "      <td>Toushindai My Lover: Minami tai Mecha-Minami</td>\n",
       "      <td>Hentai</td>\n",
       "      <td>OVA</td>\n",
       "      <td>1</td>\n",
       "      <td>4.15</td>\n",
       "      <td>211</td>\n",
       "    </tr>\n",
       "    <tr>\n",
       "      <th>12290</th>\n",
       "      <td>5543</td>\n",
       "      <td>Under World</td>\n",
       "      <td>Hentai</td>\n",
       "      <td>OVA</td>\n",
       "      <td>1</td>\n",
       "      <td>4.28</td>\n",
       "      <td>183</td>\n",
       "    </tr>\n",
       "    <tr>\n",
       "      <th>12291</th>\n",
       "      <td>5621</td>\n",
       "      <td>Violence Gekiga David no Hoshi</td>\n",
       "      <td>Hentai</td>\n",
       "      <td>OVA</td>\n",
       "      <td>4</td>\n",
       "      <td>4.88</td>\n",
       "      <td>219</td>\n",
       "    </tr>\n",
       "    <tr>\n",
       "      <th>12292</th>\n",
       "      <td>6133</td>\n",
       "      <td>Violence Gekiga Shin David no Hoshi: Inma Dens...</td>\n",
       "      <td>Hentai</td>\n",
       "      <td>OVA</td>\n",
       "      <td>1</td>\n",
       "      <td>4.98</td>\n",
       "      <td>175</td>\n",
       "    </tr>\n",
       "    <tr>\n",
       "      <th>12293</th>\n",
       "      <td>26081</td>\n",
       "      <td>Yasuji no Pornorama: Yacchimae!!</td>\n",
       "      <td>Hentai</td>\n",
       "      <td>Movie</td>\n",
       "      <td>1</td>\n",
       "      <td>5.46</td>\n",
       "      <td>142</td>\n",
       "    </tr>\n",
       "  </tbody>\n",
       "</table>\n",
       "</div>"
      ],
      "text/plain": [
       "       anime_id                                               name   genre  \\\n",
       "12289      9316       Toushindai My Lover: Minami tai Mecha-Minami  Hentai   \n",
       "12290      5543                                        Under World  Hentai   \n",
       "12291      5621                     Violence Gekiga David no Hoshi  Hentai   \n",
       "12292      6133  Violence Gekiga Shin David no Hoshi: Inma Dens...  Hentai   \n",
       "12293     26081                   Yasuji no Pornorama: Yacchimae!!  Hentai   \n",
       "\n",
       "        type episodes  rating  members  \n",
       "12289    OVA        1    4.15      211  \n",
       "12290    OVA        1    4.28      183  \n",
       "12291    OVA        4    4.88      219  \n",
       "12292    OVA        1    4.98      175  \n",
       "12293  Movie        1    5.46      142  "
      ]
     },
     "execution_count": 4,
     "metadata": {},
     "output_type": "execute_result"
    }
   ],
   "source": [
    "anime.tail()"
   ]
  },
  {
   "cell_type": "code",
   "execution_count": 5,
   "id": "a2b76af3",
   "metadata": {},
   "outputs": [
    {
     "data": {
      "text/plain": [
       "Index(['anime_id', 'name', 'genre', 'type', 'episodes', 'rating', 'members'], dtype='object')"
      ]
     },
     "execution_count": 5,
     "metadata": {},
     "output_type": "execute_result"
    }
   ],
   "source": [
    "anime.columns"
   ]
  },
  {
   "cell_type": "code",
   "execution_count": 6,
   "id": "17e4e9d0",
   "metadata": {},
   "outputs": [
    {
     "data": {
      "text/html": [
       "<div>\n",
       "<style scoped>\n",
       "    .dataframe tbody tr th:only-of-type {\n",
       "        vertical-align: middle;\n",
       "    }\n",
       "\n",
       "    .dataframe tbody tr th {\n",
       "        vertical-align: top;\n",
       "    }\n",
       "\n",
       "    .dataframe thead th {\n",
       "        text-align: right;\n",
       "    }\n",
       "</style>\n",
       "<table border=\"1\" class=\"dataframe\">\n",
       "  <thead>\n",
       "    <tr style=\"text-align: right;\">\n",
       "      <th></th>\n",
       "      <th>anime_id</th>\n",
       "      <th>rating</th>\n",
       "      <th>members</th>\n",
       "    </tr>\n",
       "  </thead>\n",
       "  <tbody>\n",
       "    <tr>\n",
       "      <th>count</th>\n",
       "      <td>12294.000000</td>\n",
       "      <td>12064.000000</td>\n",
       "      <td>1.229400e+04</td>\n",
       "    </tr>\n",
       "    <tr>\n",
       "      <th>mean</th>\n",
       "      <td>14058.221653</td>\n",
       "      <td>6.473902</td>\n",
       "      <td>1.807134e+04</td>\n",
       "    </tr>\n",
       "    <tr>\n",
       "      <th>std</th>\n",
       "      <td>11455.294701</td>\n",
       "      <td>1.026746</td>\n",
       "      <td>5.482068e+04</td>\n",
       "    </tr>\n",
       "    <tr>\n",
       "      <th>min</th>\n",
       "      <td>1.000000</td>\n",
       "      <td>1.670000</td>\n",
       "      <td>5.000000e+00</td>\n",
       "    </tr>\n",
       "    <tr>\n",
       "      <th>25%</th>\n",
       "      <td>3484.250000</td>\n",
       "      <td>5.880000</td>\n",
       "      <td>2.250000e+02</td>\n",
       "    </tr>\n",
       "    <tr>\n",
       "      <th>50%</th>\n",
       "      <td>10260.500000</td>\n",
       "      <td>6.570000</td>\n",
       "      <td>1.550000e+03</td>\n",
       "    </tr>\n",
       "    <tr>\n",
       "      <th>75%</th>\n",
       "      <td>24794.500000</td>\n",
       "      <td>7.180000</td>\n",
       "      <td>9.437000e+03</td>\n",
       "    </tr>\n",
       "    <tr>\n",
       "      <th>max</th>\n",
       "      <td>34527.000000</td>\n",
       "      <td>10.000000</td>\n",
       "      <td>1.013917e+06</td>\n",
       "    </tr>\n",
       "  </tbody>\n",
       "</table>\n",
       "</div>"
      ],
      "text/plain": [
       "           anime_id        rating       members\n",
       "count  12294.000000  12064.000000  1.229400e+04\n",
       "mean   14058.221653      6.473902  1.807134e+04\n",
       "std    11455.294701      1.026746  5.482068e+04\n",
       "min        1.000000      1.670000  5.000000e+00\n",
       "25%     3484.250000      5.880000  2.250000e+02\n",
       "50%    10260.500000      6.570000  1.550000e+03\n",
       "75%    24794.500000      7.180000  9.437000e+03\n",
       "max    34527.000000     10.000000  1.013917e+06"
      ]
     },
     "execution_count": 6,
     "metadata": {},
     "output_type": "execute_result"
    }
   ],
   "source": [
    "anime.describe()"
   ]
  },
  {
   "cell_type": "code",
   "execution_count": 7,
   "id": "0b8c896e",
   "metadata": {},
   "outputs": [
    {
     "name": "stdout",
     "output_type": "stream",
     "text": [
      "<class 'pandas.core.frame.DataFrame'>\n",
      "RangeIndex: 12294 entries, 0 to 12293\n",
      "Data columns (total 7 columns):\n",
      " #   Column    Non-Null Count  Dtype  \n",
      "---  ------    --------------  -----  \n",
      " 0   anime_id  12294 non-null  int64  \n",
      " 1   name      12294 non-null  object \n",
      " 2   genre     12232 non-null  object \n",
      " 3   type      12269 non-null  object \n",
      " 4   episodes  12294 non-null  object \n",
      " 5   rating    12064 non-null  float64\n",
      " 6   members   12294 non-null  int64  \n",
      "dtypes: float64(1), int64(2), object(4)\n",
      "memory usage: 672.5+ KB\n"
     ]
    }
   ],
   "source": [
    "anime.info()"
   ]
  },
  {
   "cell_type": "code",
   "execution_count": 8,
   "id": "c23c6d52",
   "metadata": {},
   "outputs": [],
   "source": [
    "#as we can see, in out dataset we have 4objects and 2int64 & 1float64.\n",
    "#We'll convert onj into int in our next step that is in : Feature Extraction "
   ]
  },
  {
   "cell_type": "code",
   "execution_count": null,
   "id": "cd1c1503",
   "metadata": {},
   "outputs": [],
   "source": []
  },
  {
   "cell_type": "code",
   "execution_count": 9,
   "id": "9ca75758",
   "metadata": {},
   "outputs": [
    {
     "data": {
      "text/plain": [
       "anime_id      0\n",
       "name          0\n",
       "genre        62\n",
       "type         25\n",
       "episodes      0\n",
       "rating      230\n",
       "members       0\n",
       "dtype: int64"
      ]
     },
     "execution_count": 9,
     "metadata": {},
     "output_type": "execute_result"
    }
   ],
   "source": [
    "#checking missing value\n",
    "anime.isnull().sum()"
   ]
  },
  {
   "cell_type": "code",
   "execution_count": 10,
   "id": "289da9b6",
   "metadata": {},
   "outputs": [
    {
     "data": {
      "text/plain": [
       "genre      62\n",
       "type       25\n",
       "rating    230\n",
       "dtype: int64"
      ]
     },
     "execution_count": 10,
     "metadata": {},
     "output_type": "execute_result"
    }
   ],
   "source": [
    "anime.isnull().sum()[anime.isnull().sum()>0]"
   ]
  },
  {
   "cell_type": "code",
   "execution_count": null,
   "id": "b6b88277",
   "metadata": {},
   "outputs": [],
   "source": []
  },
  {
   "cell_type": "code",
   "execution_count": 11,
   "id": "ee7a7ff9",
   "metadata": {},
   "outputs": [],
   "source": [
    "#filling nulls value"
   ]
  },
  {
   "cell_type": "code",
   "execution_count": 12,
   "id": "641b938b",
   "metadata": {},
   "outputs": [
    {
     "data": {
      "text/plain": [
       "Hentai                                                  823\n",
       "Comedy                                                  523\n",
       "Music                                                   301\n",
       "Kids                                                    199\n",
       "Comedy, Slice of Life                                   179\n",
       "                                                       ... \n",
       "Adventure, Drama, Fantasy, Game, Sci-Fi                   1\n",
       "Adventure, Demons, Fantasy, Historical                    1\n",
       "Action, Comedy, Drama, Mecha, Music, Sci-Fi, Shounen      1\n",
       "Action, Comedy, Fantasy, Mecha, Sci-Fi, Shounen           1\n",
       "Hentai, Slice of Life                                     1\n",
       "Name: genre, Length: 3264, dtype: int64"
      ]
     },
     "execution_count": 12,
     "metadata": {},
     "output_type": "execute_result"
    }
   ],
   "source": [
    "anime.genre.value_counts()"
   ]
  },
  {
   "cell_type": "code",
   "execution_count": 13,
   "id": "dda4912e",
   "metadata": {},
   "outputs": [
    {
     "data": {
      "text/plain": [
       "TV         3787\n",
       "OVA        3311\n",
       "Movie      2348\n",
       "Special    1676\n",
       "ONA         659\n",
       "Music       488\n",
       "Name: type, dtype: int64"
      ]
     },
     "execution_count": 13,
     "metadata": {},
     "output_type": "execute_result"
    }
   ],
   "source": [
    "anime.type.value_counts()"
   ]
  },
  {
   "cell_type": "code",
   "execution_count": 14,
   "id": "7ed3c7a2",
   "metadata": {},
   "outputs": [
    {
     "data": {
      "text/plain": [
       "6.00    141\n",
       "7.00     99\n",
       "6.50     90\n",
       "6.25     84\n",
       "5.00     76\n",
       "       ... \n",
       "3.47      1\n",
       "3.71      1\n",
       "3.87      1\n",
       "3.91      1\n",
       "3.14      1\n",
       "Name: rating, Length: 598, dtype: int64"
      ]
     },
     "execution_count": 14,
     "metadata": {},
     "output_type": "execute_result"
    }
   ],
   "source": [
    "anime.rating.value_counts()"
   ]
  },
  {
   "cell_type": "code",
   "execution_count": null,
   "id": "32f4faa0",
   "metadata": {},
   "outputs": [],
   "source": []
  },
  {
   "cell_type": "markdown",
   "id": "50ccf42b",
   "metadata": {},
   "source": [
    "genre  - We'll fill it with 'Unknown' since genres are categorical and each anime should have a genre.\n",
    "\n",
    "type   - Similar to genres, we'll fill it with 'Unknown'.\n",
    "\n",
    "rating - Filling missing ratings with the mean"
   ]
  },
  {
   "cell_type": "code",
   "execution_count": 15,
   "id": "38130caf",
   "metadata": {},
   "outputs": [],
   "source": [
    "# Filling missing values for 'genre' and 'type' with 'Unknown'\n",
    "anime['genre'].fillna('Unknown', inplace=True)\n",
    "anime['type'].fillna('Unknown', inplace=True)\n",
    "\n",
    "# Filling missing values for 'rating' with the mean rating\n",
    "anime['rating'].fillna(anime['rating'].mean(), inplace=True)\n"
   ]
  },
  {
   "cell_type": "code",
   "execution_count": 16,
   "id": "43fc1be8",
   "metadata": {},
   "outputs": [
    {
     "data": {
      "text/plain": [
       "Series([], dtype: int64)"
      ]
     },
     "execution_count": 16,
     "metadata": {},
     "output_type": "execute_result"
    }
   ],
   "source": [
    "anime.isnull().sum()[anime.isnull().sum()>0]"
   ]
  },
  {
   "cell_type": "code",
   "execution_count": null,
   "id": "5cda9fc2",
   "metadata": {},
   "outputs": [],
   "source": []
  },
  {
   "cell_type": "code",
   "execution_count": null,
   "id": "b8916945",
   "metadata": {},
   "outputs": [],
   "source": []
  },
  {
   "cell_type": "code",
   "execution_count": null,
   "id": "7f148045",
   "metadata": {},
   "outputs": [],
   "source": []
  },
  {
   "cell_type": "markdown",
   "id": "ae7d6779",
   "metadata": {},
   "source": [
    "# <span style=\"color:brown\">Task 2: Feature Extraction\n"
   ]
  },
  {
   "cell_type": "markdown",
   "id": "addded92",
   "metadata": {},
   "source": [
    "To identify important features for computing similarity we'll use exploratory data analysis (EDA) and feature selection techniques. "
   ]
  },
  {
   "cell_type": "code",
   "execution_count": null,
   "id": "eb71ce26",
   "metadata": {},
   "outputs": [],
   "source": []
  },
  {
   "cell_type": "markdown",
   "id": "16957227",
   "metadata": {},
   "source": [
    "## Using Exploratory Data Analysis (EDA)\n",
    "- Analyzing the correlation between different features.\n",
    "- Visualizing the distribution of features to understand their importance."
   ]
  },
  {
   "cell_type": "code",
   "execution_count": 17,
   "id": "48be3c26",
   "metadata": {},
   "outputs": [
    {
     "data": {
      "image/png": "[encoded data removed]",
      "text/plain": [
       "<Figure size 1400x600 with 2 Axes>"
      ]
     },
     "metadata": {},
     "output_type": "display_data"
    },
    {
     "data": {
      "image/png": "[encoded data removed]",
      "text/plain": [
       "<Figure size 640x480 with 2 Axes>"
      ]
     },
     "metadata": {},
     "output_type": "display_data"
    }
   ],
   "source": [
    "import seaborn as sns\n",
    "import matplotlib.pyplot as plt\n",
    "\n",
    "# Plot the distribution of ratings and members\n",
    "plt.figure(figsize=(14, 6))\n",
    "\n",
    "plt.subplot(1, 2, 1)\n",
    "sns.histplot(anime['rating'], kde=True)\n",
    "plt.title('Distribution of Ratings')\n",
    "\n",
    "plt.subplot(1, 2, 2)\n",
    "sns.histplot(anime['members'], kde=True)\n",
    "plt.title('Distribution of Members')\n",
    "\n",
    "plt.show()\n",
    "\n",
    "# Correlation matrix\n",
    "corr_matrix = anime[['rating', 'members']].corr()\n",
    "sns.heatmap(corr_matrix, annot=True, cmap='coolwarm')\n",
    "plt.title('Correlation Matrix')\n",
    "plt.show()\n"
   ]
  },
  {
   "cell_type": "markdown",
   "id": "6926201e",
   "metadata": {},
   "source": [
    "### Analysis Results\n",
    "1. Distribution Analysis:\n",
    "\n",
    "The distributions of rating and members provide insights into their spread and central tendencies, helping us understand how these features vary across the dataset.\n",
    "\n",
    "2. Correlation Matrix:\n",
    "\n",
    "The correlation matrix shows the relationship between rating and members. The correlation coefficient between these features is low, indicating that they do not strongly influence each other.\n"
   ]
  },
  {
   "cell_type": "code",
   "execution_count": null,
   "id": "b23c858a",
   "metadata": {},
   "outputs": [],
   "source": []
  },
  {
   "cell_type": "markdown",
   "id": "a01963f3",
   "metadata": {},
   "source": [
    "## Using Feature Importance Analysis\n",
    "- Using techniques like feature importance from models to identify significant features."
   ]
  },
  {
   "cell_type": "code",
   "execution_count": 32,
   "id": "64f2083b",
   "metadata": {},
   "outputs": [
    {
     "name": "stdout",
     "output_type": "stream",
     "text": [
      "         Mutual Information\n",
      "members            0.124110\n",
      "rating             0.108558\n"
     ]
    }
   ],
   "source": [
    "from sklearn.feature_selection import mutual_info_classif\n",
    "from sklearn.preprocessing import LabelEncoder\n",
    "\n",
    "# Encode the 'type' column\n",
    "le = LabelEncoder()\n",
    "anime['type_encoded'] = le.fit_transform(anime['type'].astype(str))\n",
    "\n",
    "# Compute mutual information for categorical target 'type_encoded'\n",
    "X = anime[['rating', 'members']].fillna(0)\n",
    "y = anime['type_encoded']\n",
    "\n",
    "mi = mutual_info_classif(X, y)\n",
    "mi_df = pd.DataFrame(mi, index=X.columns, columns=['Mutual Information']).sort_values(by='Mutual Information', ascending=False)\n",
    "print(mi_df)\n"
   ]
  },
  {
   "cell_type": "markdown",
   "id": "65eb6dbb",
   "metadata": {},
   "source": [
    "### Analysis Results\n",
    "1. Mutual Information:\n",
    "\n",
    "The mutual information scores indicate how much information rating and members provide about the type of anime. Both features have relatively similar mutual information scores, suggesting they are both informative."
   ]
  },
  {
   "cell_type": "markdown",
   "id": "437f2715",
   "metadata": {},
   "source": [
    "Conclusion:- Based on above analyses, genre, rating, and members are indeed good choices for computing similarity."
   ]
  },
  {
   "cell_type": "code",
   "execution_count": null,
   "id": "b00f83f8",
   "metadata": {},
   "outputs": [],
   "source": []
  },
  {
   "cell_type": "markdown",
   "id": "18562e71",
   "metadata": {},
   "source": [
    "### Converting categorical features into numerical representations\n",
    "- We will convert genre(object) into numerical representations using one-hot encoding."
   ]
  },
  {
   "cell_type": "code",
   "execution_count": 33,
   "id": "a6bfd0c2",
   "metadata": {},
   "outputs": [],
   "source": [
    "from sklearn.preprocessing import OneHotEncoder, StandardScaler\n",
    "\n",
    "# One-hot encodig the 'genre' column\n",
    "encoder = OneHotEncoder()\n",
    "genre_encoded = encoder.fit_transform(anime[['genre']]).toarray()"
   ]
  },
  {
   "cell_type": "markdown",
   "id": "7f8c8837",
   "metadata": {},
   "source": [
    "### Normalizing numerical feature"
   ]
  },
  {
   "cell_type": "code",
   "execution_count": 20,
   "id": "a8d62536",
   "metadata": {},
   "outputs": [],
   "source": [
    "# Normalizing the 'rating' and 'members' columns\n",
    "scaler = StandardScaler()\n",
    "anime[['rating', 'members']] = scaler.fit_transform(anime[['rating', 'members']])\n"
   ]
  },
  {
   "cell_type": "code",
   "execution_count": null,
   "id": "76b00660",
   "metadata": {},
   "outputs": [],
   "source": []
  },
  {
   "cell_type": "code",
   "execution_count": 21,
   "id": "354b9877",
   "metadata": {},
   "outputs": [],
   "source": [
    "# Combining the one-hot encoded 'genre' with 'rating' and 'members'\n",
    "import numpy as np\n",
    "features = np.hstack([genre_encoded, anime[['rating', 'members']].values])\n"
   ]
  },
  {
   "cell_type": "code",
   "execution_count": 22,
   "id": "ed9e8253",
   "metadata": {},
   "outputs": [
    {
     "name": "stdout",
     "output_type": "stream",
     "text": [
      "(12294, 3267)\n"
     ]
    }
   ],
   "source": [
    "print(features.shape)  # Ensuring the shape is as expected\n"
   ]
  },
  {
   "cell_type": "code",
   "execution_count": null,
   "id": "50537589",
   "metadata": {},
   "outputs": [],
   "source": []
  },
  {
   "cell_type": "code",
   "execution_count": null,
   "id": "3846ed3d",
   "metadata": {},
   "outputs": [],
   "source": []
  },
  {
   "cell_type": "markdown",
   "id": "cf83b953",
   "metadata": {},
   "source": [
    "# <span style=\"color:brown\"> Task 3: Recommendation System\n",
    "- Designing a function to recommend anime based on cosine similarity.\n",
    "- Given a target anime, recommend a list of similar anime based on cosine similarity scores.\n",
    "- Experiment with different threshold values for similarity scores to adjust the recommendation list size.\n",
    "\n",
    "\n",
    "# <span style=\"color:brown\"> Task 4: Evaluation\n",
    "- Split the dataset into training and testing sets.\n",
    "- Evaluating it using precision, recall, and F1-score.\n",
    "- Analyze the performance of the recommendation system and identify areas of improvement."
   ]
  },
  {
   "cell_type": "code",
   "execution_count": 23,
   "id": "02c87e35",
   "metadata": {},
   "outputs": [
    {
     "name": "stdout",
     "output_type": "stream",
     "text": [
      "                                          name    rating   members\n",
      "14                     Haikyuu!! Second Season  2.414913  2.941905\n",
      "26            Monogatari Series: Second Season  2.287093  3.427453\n",
      "18                Ookami Kodomo no Ame to Yuki  2.326422  3.796562\n",
      "42          Ansatsu Kyoushitsu (TV) 2nd Season  2.169105  2.889605\n",
      "58                 Kuroko no Basket 3rd Season  2.110111  3.036453\n",
      "59  Steins;Gate Movie: Fuka Ryouiki no Déjà vu  2.100279  3.180547\n",
      "20                              Hajime no Ippo  2.316590  2.546564\n",
      "25               Suzumiya Haruhi no Shoushitsu  2.296925  4.053848\n",
      "60                          Hotarubi no Mori e  2.100279  3.272031\n",
      "71                              Hotaru no Haka  2.070782  2.860473\n"
     ]
    }
   ],
   "source": [
    "from sklearn.metrics.pairwise import cosine_similarity\n",
    "\n",
    "def recommend_anime(target_anime_id, anime, features, top_n=10):\n",
    "    # Finding the index of the target anime\n",
    "    target_idx = anime[anime['anime_id'] == target_anime_id].index[0]\n",
    "    \n",
    "    # Compute cosine similarity between the target anime and all other anime\n",
    "    similarities = cosine_similarity([features[target_idx]], features)[0]\n",
    "    \n",
    "    # Geting the indices of the top_n most similar anime\n",
    "    similar_indices = similarities.argsort()[-top_n-1:-1][::-1]\n",
    "    \n",
    "    # Returning the names of the top_n most similar anime\n",
    "    return anime.iloc[similar_indices][['name', 'rating', 'members']]\n",
    "\n",
    "# Example usage\n",
    "print(recommend_anime(32281, anime, features, top_n=10))\n"
   ]
  },
  {
   "cell_type": "code",
   "execution_count": null,
   "id": "f45b53cc",
   "metadata": {},
   "outputs": [],
   "source": []
  },
  {
   "cell_type": "code",
   "execution_count": null,
   "id": "27770b08",
   "metadata": {},
   "outputs": [],
   "source": []
  },
  {
   "cell_type": "code",
   "execution_count": 24,
   "id": "5e8c87a2",
   "metadata": {},
   "outputs": [],
   "source": [
    "from sklearn.feature_extraction.text import CountVectorizer\n",
    "from sklearn.metrics.pairwise import cosine_similarity\n",
    "\n",
    "# Fill missing values in the 'genre' column with an empty string\n",
    "anime['genre'] = anime['genre'].fillna('')\n",
    "\n",
    "# Create a count matrix based on the 'genre' column\n",
    "count_vectorizer = CountVectorizer(tokenizer=lambda x: x.split(', '))\n",
    "count_matrix = count_vectorizer.fit_transform(anime['genre'])\n",
    "\n",
    "# Compute the cosine similarity matrix\n",
    "cosine_sim = cosine_similarity(count_matrix, count_matrix)\n"
   ]
  },
  {
   "cell_type": "code",
   "execution_count": 25,
   "id": "624c60ef",
   "metadata": {},
   "outputs": [],
   "source": [
    "def get_recommendations(name, cosine_sim=cosine_sim):\n",
    "    # Get the index of the anime that matches the name\n",
    "    idx = anime[anime['name'] == name].index[0]\n",
    "\n",
    "    # Get the pairwise similarity scores of all animes with that anime\n",
    "    sim_scores = list(enumerate(cosine_sim[idx]))\n",
    "\n",
    "    # Sort the animes based on the similarity scores\n",
    "    sim_scores = sorted(sim_scores, key=lambda x: x[1], reverse=True)\n",
    "\n",
    "    # Get the scores of the 10 most similar animes\n",
    "    sim_scores = sim_scores[1:11]\n",
    "\n",
    "    # Get the anime indices\n",
    "    anime_indices = [i[0] for i in sim_scores]\n",
    "\n",
    "    # Return the top 10 most similar animes\n",
    "    return anime[['anime_id', 'name', 'genre']].iloc[anime_indices]\n"
   ]
  },
  {
   "cell_type": "code",
   "execution_count": 26,
   "id": "786d9b82",
   "metadata": {},
   "outputs": [
    {
     "name": "stdout",
     "output_type": "stream",
     "text": [
      "Training set size: 9835\n",
      "Testing set size: 2459\n"
     ]
    }
   ],
   "source": [
    "from sklearn.model_selection import train_test_split\n",
    "\n",
    "# Split the dataset into training and testing sets\n",
    "train, test = train_test_split(anime, test_size=0.2, random_state=42)\n",
    "\n",
    "# Display the sizes of the training and testing sets\n",
    "print(f'Training set size: {len(train)}')\n",
    "print(f'Testing set size: {len(test)}')\n"
   ]
  },
  {
   "cell_type": "code",
   "execution_count": 27,
   "id": "80ced101",
   "metadata": {},
   "outputs": [
    {
     "name": "stdout",
     "output_type": "stream",
     "text": [
      "      anime_id                                               name  \\\n",
      "615       1735                                 Naruto: Shippuuden   \n",
      "841         20                                             Naruto   \n",
      "1103     32365  Boruto: Naruto the Movie - Naruto ga Hokage ni...   \n",
      "1343     10075                                        Naruto x UT   \n",
      "1472      8246        Naruto: Shippuuden Movie 4 - The Lost Tower   \n",
      "1573      6325  Naruto: Shippuuden Movie 3 - Hi no Ishi wo Tsu...   \n",
      "2458     19511               Naruto Shippuuden: Sunny Side Battle   \n",
      "2997     10659  Naruto Soyokazeden Movie: Naruto to Mashin to ...   \n",
      "175       1604                             Katekyo Hitman Reborn!   \n",
      "7628     23933                            Kyutai Panic Adventure!   \n",
      "\n",
      "                                                  genre  \n",
      "615   Action, Comedy, Martial Arts, Shounen, Super P...  \n",
      "841   Action, Comedy, Martial Arts, Shounen, Super P...  \n",
      "1103  Action, Comedy, Martial Arts, Shounen, Super P...  \n",
      "1343  Action, Comedy, Martial Arts, Shounen, Super P...  \n",
      "1472  Action, Comedy, Martial Arts, Shounen, Super P...  \n",
      "1573  Action, Comedy, Martial Arts, Shounen, Super P...  \n",
      "2458  Action, Comedy, Martial Arts, Shounen, Super P...  \n",
      "2997  Action, Comedy, Martial Arts, Shounen, Super P...  \n",
      "175                Action, Comedy, Shounen, Super Power  \n",
      "7628         Action, Martial Arts, Shounen, Super Power  \n"
     ]
    }
   ],
   "source": [
    "recommendations = get_recommendations('Naruto')\n",
    "print(recommendations)\n"
   ]
  },
  {
   "cell_type": "code",
   "execution_count": null,
   "id": "33b7c00b",
   "metadata": {},
   "outputs": [],
   "source": []
  },
  {
   "cell_type": "markdown",
   "id": "de027414",
   "metadata": {},
   "source": [
    "### Experiment with different threshold values for similarity scores to adjust the recommendation list size."
   ]
  },
  {
   "cell_type": "code",
   "execution_count": 29,
   "id": "cf559ab2",
   "metadata": {},
   "outputs": [],
   "source": [
    "def get_recommendations(name, cosine_sim=cosine_sim, threshold=0.1):\n",
    "    # Get the index of the anime that matches the name\n",
    "    idx = anime[anime['name'] == name].index[0]\n",
    "\n",
    "    # Get the pairwise similarity scores of all animes with that anime\n",
    "    sim_scores = list(enumerate(cosine_sim[idx]))\n",
    "\n",
    "    # Filter out the animes that have a similarity score below the threshold\n",
    "    sim_scores = [score for score in sim_scores if score[1] > threshold]\n",
    "\n",
    "    # Sort the animes based on the similarity scores\n",
    "    sim_scores = sorted(sim_scores, key=lambda x: x[1], reverse=True)\n",
    "\n",
    "    # Get the anime indices\n",
    "    anime_indices = [i[0] for i in sim_scores]\n",
    "\n",
    "    # Return the similar animes\n",
    "    return anime[['anime_id', 'name', 'genre']].iloc[anime_indices]\n"
   ]
  },
  {
   "cell_type": "code",
   "execution_count": 30,
   "id": "341d963a",
   "metadata": {},
   "outputs": [
    {
     "name": "stdout",
     "output_type": "stream",
     "text": [
      "       anime_id                                               name  \\\n",
      "486       28755                           Boruto: Naruto the Movie   \n",
      "615        1735                                 Naruto: Shippuuden   \n",
      "841          20                                             Naruto   \n",
      "1103      32365  Boruto: Naruto the Movie - Naruto ga Hokage ni...   \n",
      "1343      10075                                        Naruto x UT   \n",
      "...         ...                                                ...   \n",
      "11956      2070                                 Guy: Youma Kakusei   \n",
      "11957      1763                                   Midnight Panther   \n",
      "12015      2479                                      Dragon Knight   \n",
      "12166      3553                               Reyon Densetsu Flair   \n",
      "12176      2480                               Dragon Knight Gaiden   \n",
      "\n",
      "                                                   genre  \n",
      "486    Action, Comedy, Martial Arts, Shounen, Super P...  \n",
      "615    Action, Comedy, Martial Arts, Shounen, Super P...  \n",
      "841    Action, Comedy, Martial Arts, Shounen, Super P...  \n",
      "1103   Action, Comedy, Martial Arts, Shounen, Super P...  \n",
      "1343   Action, Comedy, Martial Arts, Shounen, Super P...  \n",
      "...                                                  ...  \n",
      "11956                      Action, Hentai, Sci-Fi, Space  \n",
      "11957                 Action, Adventure, Fantasy, Hentai  \n",
      "12015                    Action, Demons, Fantasy, Hentai  \n",
      "12166                    Action, Demons, Fantasy, Hentai  \n",
      "12176                    Action, Demons, Fantasy, Hentai  \n",
      "\n",
      "[6169 rows x 3 columns]\n"
     ]
    }
   ],
   "source": [
    "# Lower threshold\n",
    "recommendations = get_recommendations('Naruto', threshold=0.2)\n",
    "print(recommendations)"
   ]
  },
  {
   "cell_type": "code",
   "execution_count": 31,
   "id": "4c32b651",
   "metadata": {},
   "outputs": [
    {
     "name": "stdout",
     "output_type": "stream",
     "text": [
      "      anime_id                                               name  \\\n",
      "486      28755                           Boruto: Naruto the Movie   \n",
      "615       1735                                 Naruto: Shippuuden   \n",
      "841         20                                             Naruto   \n",
      "1103     32365  Boruto: Naruto the Movie - Naruto ga Hokage ni...   \n",
      "1343     10075                                        Naruto x UT   \n",
      "...        ...                                                ...   \n",
      "4785     21353                                          Tokyo ESP   \n",
      "4942      3154                                          Gatchaman   \n",
      "6196      2851                                      Ninku (Movie)   \n",
      "6229      1468                                     Baoh Raihousha   \n",
      "6457     29758                                       Taboo Tattoo   \n",
      "\n",
      "                                                  genre  \n",
      "486   Action, Comedy, Martial Arts, Shounen, Super P...  \n",
      "615   Action, Comedy, Martial Arts, Shounen, Super P...  \n",
      "841   Action, Comedy, Martial Arts, Shounen, Super P...  \n",
      "1103  Action, Comedy, Martial Arts, Shounen, Super P...  \n",
      "1343  Action, Comedy, Martial Arts, Shounen, Super P...  \n",
      "...                                                 ...  \n",
      "4785  Action, Comedy, Sci-Fi, Shounen, Super Power, ...  \n",
      "4942  Action, Adventure, Martial Arts, Sci-Fi, Shoun...  \n",
      "6196  Action, Adventure, Comedy, Historical, Martial...  \n",
      "6229  Action, Martial Arts, Sci-Fi, Shounen, Space, ...  \n",
      "6457  Action, Comedy, Martial Arts, Mystery, Super P...  \n",
      "\n",
      "[119 rows x 3 columns]\n"
     ]
    }
   ],
   "source": [
    "# Higher threshold\n",
    "recommendations = get_recommendations('Naruto', threshold=0.7)\n",
    "print(recommendations)\n"
   ]
  },
  {
   "cell_type": "markdown",
   "id": "6be80095",
   "metadata": {},
   "source": [
    "# Threshold values-  in a recommendation system determine the minimum similarity score required for an item to be considered similar enough to be recommended.\n",
    "\n",
    "## Lower threshold: More recommendations, including less similar items.\n",
    "## Higher threshold: Fewer recommendations, focusing on more similar items.\n",
    "\n",
    "- This allows you to fine-tune the recommendations based on the desired level of similarity."
   ]
  },
  {
   "cell_type": "code",
   "execution_count": null,
   "id": "a93c2b50",
   "metadata": {},
   "outputs": [],
   "source": []
  },
  {
   "cell_type": "code",
   "execution_count": null,
   "id": "3b84445d",
   "metadata": {},
   "outputs": [],
   "source": []
  },
  {
   "cell_type": "markdown",
   "id": "c06b3545",
   "metadata": {},
   "source": [
    "## Evaluation"
   ]
  },
  {
   "cell_type": "code",
   "execution_count": 28,
   "id": "fb45c5f4",
   "metadata": {},
   "outputs": [
    {
     "name": "stdout",
     "output_type": "stream",
     "text": [
      "Precision: 0.8261455120908969\n",
      "Recall: 0.9962505728874169\n",
      "F1-Score: 0.90325911748073\n"
     ]
    }
   ],
   "source": [
    "# Create a count matrix based on the 'genre' column\n",
    "count_vectorizer = CountVectorizer(tokenizer=lambda x: x.split(', '))\n",
    "count_matrix = count_vectorizer.fit_transform(anime['genre'])\n",
    "\n",
    "# Compute the cosine similarity matrix\n",
    "cosine_sim = cosine_similarity(count_matrix, count_matrix)\n",
    "\n",
    "def get_recommendations(name, cosine_sim=cosine_sim):\n",
    "    # Get the index of the anime that matches the name\n",
    "    idx = anime[anime['name'] == name].index[0]\n",
    "\n",
    "    # Get the pairwise similarity scores of all animes with that anime\n",
    "    sim_scores = list(enumerate(cosine_sim[idx]))\n",
    "\n",
    "    # Sort the animes based on the similarity scores\n",
    "    sim_scores = sorted(sim_scores, key=lambda x: x[1], reverse=True)\n",
    "\n",
    "    # Get the scores of the 10 most similar animes\n",
    "    sim_scores = sim_scores[1:11]\n",
    "\n",
    "    # Get the anime indices\n",
    "    anime_indices = [i[0] for i in sim_scores]\n",
    "\n",
    "    # Return the top 10 most similar animes\n",
    "    return anime.iloc[anime_indices]\n",
    "\n",
    "# Evaluate the recommendations\n",
    "def evaluate_recommendations(test_set):\n",
    "    precision_list = []\n",
    "    recall_list = []\n",
    "\n",
    "    for idx, row in test_set.iterrows():\n",
    "        true_genres = set(row['genre'].split(', '))\n",
    "        recommendations = get_recommendations(row['name'])\n",
    "        \n",
    "        recommended_genres = set()\n",
    "        for _, rec_row in recommendations.iterrows():\n",
    "            recommended_genres.update(rec_row['genre'].split(', '))\n",
    "        \n",
    "        true_positives = len(true_genres & recommended_genres)\n",
    "        precision = true_positives / len(recommended_genres) if recommended_genres else 0\n",
    "        recall = true_positives / len(true_genres) if true_genres else 0\n",
    "\n",
    "        precision_list.append(precision)\n",
    "        recall_list.append(recall)\n",
    "\n",
    "    average_precision = sum(precision_list) / len(precision_list)\n",
    "    average_recall = sum(recall_list) / len(recall_list)\n",
    "    f1_score = 2 * (average_precision * average_recall) / (average_precision + average_recall) if (average_precision + average_recall) != 0 else 0\n",
    "\n",
    "    return average_precision, average_recall, f1_score\n",
    "\n",
    "# Get evaluation metrics\n",
    "precision, recall, f1 = evaluate_recommendations(test)\n",
    "\n",
    "print(f'Precision: {precision}')\n",
    "print(f'Recall: {recall}')\n",
    "print(f'F1-Score: {f1}')\n"
   ]
  },
  {
   "cell_type": "markdown",
   "id": "651103b8",
   "metadata": {},
   "source": [
    "Recommendation system's performance metrics look promising with high precision, recall, and F1-score values. This means that the recommendations are both accurate and comprehensive."
   ]
  },
  {
   "cell_type": "code",
   "execution_count": null,
   "id": "565d6e8f",
   "metadata": {},
   "outputs": [],
   "source": []
  },
  {
   "cell_type": "code",
   "execution_count": null,
   "id": "d2e7c834",
   "metadata": {},
   "outputs": [],
   "source": []
  },
  {
   "cell_type": "markdown",
   "id": "03d73010",
   "metadata": {},
   "source": [
    "# <span style=\"color:brown\">Conclusion and Analysis of the Recommendation System's Performance\n",
    "\n",
    "## Performance Metrics\n",
    "### Precision: 0.826\n",
    "- This indicates that 82.6% of the recommended animes share the same genres as the target anime. A high precision value suggests that the system is good at recommending relevant animes.\n",
    "### Recall: 0.996\n",
    "- This indicates that 99.6% of the relevant genres for a target anime are found in the recommended animes. A high recall value suggests that the system captures most of the relevant genres in its recommendations.\n",
    "### F1-Score: 0.903\n",
    "- The F1-Score balances precision and recall, with a value of 0.903, indicating a well-rounded performance of the recommendation system.\n",
    "\n",
    "\n",
    "## Areas for Improvement\n",
    "1. Incorporating More Features:\n",
    "      - Currently, the recommendation system relies primarily on the genre. Including additional features such as type, rating,         and members could enhance the recommendation quality. \n",
    "\n",
    "\n",
    "2. User-Based Recommendations:\n",
    "      - This would allow the system to tailor recommendations based on individual user history and preferences.\n",
    "\n",
    "\n",
    "3. Hyperparameter Tuning:\n",
    "      - Experimenting with different values for the number of recommendations and adjusting parameters in the CountVectorizer           can fine-tune the system. \n",
    "\n",
    "\n",
    "4. Improving Computational Efficiency:\n",
    "      - If we have larger datasets, the current approach of computing the cosine similarity matrix might become computationally         expensive. So in this cases, we can use nearest neighbors and other algorithms."
   ]
  }
 ],
 "metadata": {
  "kernelspec": {
   "display_name": "Python 3 (ipykernel)",
   "language": "python",
   "name": "python3"
  },
  "language_info": {
   "codemirror_mode": {
    "name": "ipython",
    "version": 3
   },
   "file_extension": ".py",
   "mimetype": "text/x-python",
   "name": "python",
   "nbconvert_exporter": "python",
   "pygments_lexer": "ipython3",
   "version": "3.9.13"
  }
 },
 "nbformat": 4,
 "nbformat_minor": 5
}
