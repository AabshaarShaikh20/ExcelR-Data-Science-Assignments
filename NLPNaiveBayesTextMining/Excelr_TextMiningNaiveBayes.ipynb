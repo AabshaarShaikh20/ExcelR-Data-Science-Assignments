{
 "cells": [
  {
   "cell_type": "markdown",
   "id": "a81334cb",
   "metadata": {},
   "source": [
    "# TEXT CLASSIFICATION USING NAIVE BAYES AND SENTIMENT ANALYSIS ON BLOG POSTS"
   ]
  },
  {
   "cell_type": "markdown",
   "id": "a518f774",
   "metadata": {},
   "source": [
    "# Task1. Data Exploration and Preprocessing\n",
    "•\tLoad the \"blogs_categories.csv\" dataset and perform an exploratory data analysis to understand its structure and content.\n",
    "\n",
    "•\tPreprocess the data by cleaning the text (removing punctuation, converting to lowercase, etc.), tokenizing, and removing stopwords.\n",
    "\n",
    "•\tPerform feature extraction to convert text data into a format that can be used by the Naive Bayes model, using techniques such as TF-IDF.\n"
   ]
  },
  {
   "cell_type": "markdown",
   "id": "349d4512",
   "metadata": {},
   "source": [
    "# Task1. Data Exploration and Preprocessing\n",
    "•\tLoad the \"blogs_categories.csv\" dataset and perform an exploratory data analysis to understand its structure and content.\n",
    "\n",
    "•\tPreprocess the data by cleaning the text (removing punctuation, converting to lowercase, etc.), tokenizing, and removing stopwords.\n",
    "\n",
    "•\tPerform feature extraction to convert text data into a format that can be used by the Naive Bayes model, using techniques such as TF-IDF.\n"
   ]
  },
  {
   "cell_type": "code",
   "execution_count": 1,
   "id": "0e62c7f2",
   "metadata": {},
   "outputs": [],
   "source": [
    "import pandas as pd"
   ]
  },
  {
   "cell_type": "code",
   "execution_count": 2,
   "id": "64d9ef56",
   "metadata": {},
   "outputs": [
    {
     "data": {
      "text/html": [
       "<div>\n",
       "<style scoped>\n",
       "    .dataframe tbody tr th:only-of-type {\n",
       "        vertical-align: middle;\n",
       "    }\n",
       "\n",
       "    .dataframe tbody tr th {\n",
       "        vertical-align: top;\n",
       "    }\n",
       "\n",
       "    .dataframe thead th {\n",
       "        text-align: right;\n",
       "    }\n",
       "</style>\n",
       "<table border=\"1\" class=\"dataframe\">\n",
       "  <thead>\n",
       "    <tr style=\"text-align: right;\">\n",
       "      <th></th>\n",
       "      <th>Data</th>\n",
       "      <th>Labels</th>\n",
       "    </tr>\n",
       "  </thead>\n",
       "  <tbody>\n",
       "    <tr>\n",
       "      <th>0</th>\n",
       "      <td>Path: cantaloupe.srv.cs.cmu.edu!magnesium.club...</td>\n",
       "      <td>alt.atheism</td>\n",
       "    </tr>\n",
       "    <tr>\n",
       "      <th>1</th>\n",
       "      <td>Newsgroups: alt.atheism\\nPath: cantaloupe.srv....</td>\n",
       "      <td>alt.atheism</td>\n",
       "    </tr>\n",
       "    <tr>\n",
       "      <th>2</th>\n",
       "      <td>Path: cantaloupe.srv.cs.cmu.edu!das-news.harva...</td>\n",
       "      <td>alt.atheism</td>\n",
       "    </tr>\n",
       "    <tr>\n",
       "      <th>3</th>\n",
       "      <td>Path: cantaloupe.srv.cs.cmu.edu!magnesium.club...</td>\n",
       "      <td>alt.atheism</td>\n",
       "    </tr>\n",
       "    <tr>\n",
       "      <th>4</th>\n",
       "      <td>Xref: cantaloupe.srv.cs.cmu.edu alt.atheism:53...</td>\n",
       "      <td>alt.atheism</td>\n",
       "    </tr>\n",
       "    <tr>\n",
       "      <th>...</th>\n",
       "      <td>...</td>\n",
       "      <td>...</td>\n",
       "    </tr>\n",
       "    <tr>\n",
       "      <th>1995</th>\n",
       "      <td>Xref: cantaloupe.srv.cs.cmu.edu talk.abortion:...</td>\n",
       "      <td>talk.religion.misc</td>\n",
       "    </tr>\n",
       "    <tr>\n",
       "      <th>1996</th>\n",
       "      <td>Xref: cantaloupe.srv.cs.cmu.edu talk.religion....</td>\n",
       "      <td>talk.religion.misc</td>\n",
       "    </tr>\n",
       "    <tr>\n",
       "      <th>1997</th>\n",
       "      <td>Xref: cantaloupe.srv.cs.cmu.edu talk.origins:4...</td>\n",
       "      <td>talk.religion.misc</td>\n",
       "    </tr>\n",
       "    <tr>\n",
       "      <th>1998</th>\n",
       "      <td>Xref: cantaloupe.srv.cs.cmu.edu talk.religion....</td>\n",
       "      <td>talk.religion.misc</td>\n",
       "    </tr>\n",
       "    <tr>\n",
       "      <th>1999</th>\n",
       "      <td>Xref: cantaloupe.srv.cs.cmu.edu sci.skeptic:43...</td>\n",
       "      <td>talk.religion.misc</td>\n",
       "    </tr>\n",
       "  </tbody>\n",
       "</table>\n",
       "<p>2000 rows × 2 columns</p>\n",
       "</div>"
      ],
      "text/plain": [
       "                                                   Data              Labels\n",
       "0     Path: cantaloupe.srv.cs.cmu.edu!magnesium.club...         alt.atheism\n",
       "1     Newsgroups: alt.atheism\\nPath: cantaloupe.srv....         alt.atheism\n",
       "2     Path: cantaloupe.srv.cs.cmu.edu!das-news.harva...         alt.atheism\n",
       "3     Path: cantaloupe.srv.cs.cmu.edu!magnesium.club...         alt.atheism\n",
       "4     Xref: cantaloupe.srv.cs.cmu.edu alt.atheism:53...         alt.atheism\n",
       "...                                                 ...                 ...\n",
       "1995  Xref: cantaloupe.srv.cs.cmu.edu talk.abortion:...  talk.religion.misc\n",
       "1996  Xref: cantaloupe.srv.cs.cmu.edu talk.religion....  talk.religion.misc\n",
       "1997  Xref: cantaloupe.srv.cs.cmu.edu talk.origins:4...  talk.religion.misc\n",
       "1998  Xref: cantaloupe.srv.cs.cmu.edu talk.religion....  talk.religion.misc\n",
       "1999  Xref: cantaloupe.srv.cs.cmu.edu sci.skeptic:43...  talk.religion.misc\n",
       "\n",
       "[2000 rows x 2 columns]"
      ]
     },
     "execution_count": 2,
     "metadata": {},
     "output_type": "execute_result"
    }
   ],
   "source": [
    "blog = pd.read_csv(r'C:\\Users\\Aabshaar\\Downloads\\NLPNaiveBayesTextMining\\blogs.csv')\n",
    "blog"
   ]
  },
  {
   "cell_type": "code",
   "execution_count": null,
   "id": "3c066ad0",
   "metadata": {},
   "outputs": [],
   "source": []
  },
  {
   "cell_type": "code",
   "execution_count": 3,
   "id": "796babb5",
   "metadata": {},
   "outputs": [
    {
     "name": "stdout",
     "output_type": "stream",
     "text": [
      "First few rows of the dataset:\n",
      "                                                Data       Labels\n",
      "0  Path: cantaloupe.srv.cs.cmu.edu!magnesium.club...  alt.atheism\n",
      "1  Newsgroups: alt.atheism\\nPath: cantaloupe.srv....  alt.atheism\n",
      "2  Path: cantaloupe.srv.cs.cmu.edu!das-news.harva...  alt.atheism\n",
      "3  Path: cantaloupe.srv.cs.cmu.edu!magnesium.club...  alt.atheism\n",
      "4  Xref: cantaloupe.srv.cs.cmu.edu alt.atheism:53...  alt.atheism\n"
     ]
    }
   ],
   "source": [
    "# Display the first few rows to understand the structure\n",
    "print(\"First few rows of the dataset:\")\n",
    "print(blog.head())"
   ]
  },
  {
   "cell_type": "code",
   "execution_count": 4,
   "id": "d926e601",
   "metadata": {},
   "outputs": [
    {
     "data": {
      "text/plain": [
       "Data      0\n",
       "Labels    0\n",
       "dtype: int64"
      ]
     },
     "execution_count": 4,
     "metadata": {},
     "output_type": "execute_result"
    }
   ],
   "source": [
    "#checking nulls values\n",
    "blog.isnull().sum()"
   ]
  },
  {
   "cell_type": "code",
   "execution_count": 5,
   "id": "a2a549b5",
   "metadata": {},
   "outputs": [],
   "source": [
    "#we don;t have any nulls in our dataset"
   ]
  },
  {
   "cell_type": "code",
   "execution_count": 6,
   "id": "00878177",
   "metadata": {},
   "outputs": [
    {
     "name": "stdout",
     "output_type": "stream",
     "text": [
      "\n",
      "Distribution of categories:\n",
      "alt.atheism                 100\n",
      "comp.graphics               100\n",
      "talk.politics.misc          100\n",
      "talk.politics.mideast       100\n",
      "talk.politics.guns          100\n",
      "soc.religion.christian      100\n",
      "sci.space                   100\n",
      "sci.med                     100\n",
      "sci.electronics             100\n",
      "sci.crypt                   100\n",
      "rec.sport.hockey            100\n",
      "rec.sport.baseball          100\n",
      "rec.motorcycles             100\n",
      "rec.autos                   100\n",
      "misc.forsale                100\n",
      "comp.windows.x              100\n",
      "comp.sys.mac.hardware       100\n",
      "comp.sys.ibm.pc.hardware    100\n",
      "comp.os.ms-windows.misc     100\n",
      "talk.religion.misc          100\n",
      "Name: Labels, dtype: int64\n"
     ]
    }
   ],
   "source": [
    "# Check the distribution of the categories\n",
    "print(\"\\nDistribution of categories:\")\n",
    "print(blog['Labels'].value_counts())"
   ]
  },
  {
   "cell_type": "code",
   "execution_count": null,
   "id": "ae357bbc",
   "metadata": {},
   "outputs": [],
   "source": []
  },
  {
   "cell_type": "code",
   "execution_count": 7,
   "id": "273aaa52",
   "metadata": {},
   "outputs": [],
   "source": [
    "# Preprocessing the Data\n",
    "\n",
    "# Converting text to lowercase\n",
    "blog['Data'] = blog['Data'].str.lower()"
   ]
  },
  {
   "cell_type": "code",
   "execution_count": 8,
   "id": "4ddbca09",
   "metadata": {},
   "outputs": [],
   "source": [
    "# Removing punctuation\n",
    "import string\n",
    "blog['Data'] = blog['Data'].str.replace('[{}]'.format(string.punctuation), '', regex=True)"
   ]
  },
  {
   "cell_type": "code",
   "execution_count": 9,
   "id": "b3b96f3c",
   "metadata": {},
   "outputs": [],
   "source": [
    "# Tokenize the text\n",
    "import nltk\n",
    "\n",
    "from nltk.tokenize import word_tokenize\n",
    "blog['Data'] = blog['Data'].apply(word_tokenize)"
   ]
  },
  {
   "cell_type": "code",
   "execution_count": 10,
   "id": "ec94e002",
   "metadata": {},
   "outputs": [
    {
     "name": "stderr",
     "output_type": "stream",
     "text": [
      "[nltk_data] Downloading package stopwords to\n",
      "[nltk_data]     C:\\Users\\Aabshaar\\AppData\\Roaming\\nltk_data...\n",
      "[nltk_data]   Package stopwords is already up-to-date!\n"
     ]
    }
   ],
   "source": [
    "# Downloading stopwords list if not already downloaded\n",
    "from nltk.corpus import stopwords\n",
    "\n",
    "nltk.download('stopwords')\n",
    "stop_words = set(stopwords.words('english'))"
   ]
  },
  {
   "cell_type": "code",
   "execution_count": 11,
   "id": "380e61a5",
   "metadata": {},
   "outputs": [],
   "source": [
    "# Removing stopwords\n",
    "blog['Data'] = blog['Data'].apply(lambda x: [word for word in x if word not in stop_words])"
   ]
  },
  {
   "cell_type": "code",
   "execution_count": 12,
   "id": "8c13b909",
   "metadata": {},
   "outputs": [],
   "source": [
    "# Joining the tokens back into a string\n",
    "blog['Data'] = blog['Data'].apply(lambda x: ' '.join(x))"
   ]
  },
  {
   "cell_type": "code",
   "execution_count": 13,
   "id": "cb4a5d56",
   "metadata": {},
   "outputs": [
    {
     "name": "stdout",
     "output_type": "stream",
     "text": [
      "\n",
      "Feature matrix shape: (2000, 5000)\n",
      "Labels shape: (2000,)\n"
     ]
    }
   ],
   "source": [
    "# Feature Extraction using TF-IDF\n",
    "from sklearn.feature_extraction.text import TfidfVectorizer\n",
    "\n",
    "tfidf_vectorizer = TfidfVectorizer(max_features=5000)  # You can adjust max_features as needed\n",
    "X = tfidf_vectorizer.fit_transform(blog['Data'])\n",
    "\n",
    "# Convert labels to a numeric format if necessary\n",
    "y = blog['Labels']\n",
    "\n",
    "print(\"\\nFeature matrix shape:\", X.shape)\n",
    "print(\"Labels shape:\", y.shape)"
   ]
  },
  {
   "cell_type": "markdown",
   "id": "bc908598",
   "metadata": {},
   "source": [
    "# Explanation:\n",
    "1. Loading the Dataset: The dataset is loaded using pandas, and the first few rows are displayed to understand its structure.\n",
    "\n",
    "\n",
    "2. Data Exploration:\n",
    "- Missing values are checked.- no missing values found\n",
    "- The distribution of categories is analyzed.\n",
    "\n",
    "\n",
    "3. Preprocessing:\n",
    "- Text Cleaning: Converting text to lowercase and removing punctuation.\n",
    "- Tokenization: Splitting the text into individual words.\n",
    "- Stopwords Removal: Removing common words that don't contribute to the meaning.\n",
    "- Rejoining Tokens: Joining the words back into a single string.\n",
    "\n",
    "\n",
    "4. Feature Extraction:\n",
    "- TF-IDF Vectorization: Converting the cleaned text into numerical features that can be used by a machine learning model.\n",
    "\n"
   ]
  },
  {
   "cell_type": "code",
   "execution_count": null,
   "id": "122a8e72",
   "metadata": {},
   "outputs": [],
   "source": []
  },
  {
   "cell_type": "code",
   "execution_count": null,
   "id": "c5355b94",
   "metadata": {},
   "outputs": [],
   "source": []
  },
  {
   "cell_type": "code",
   "execution_count": null,
   "id": "9754a0b8",
   "metadata": {},
   "outputs": [],
   "source": []
  },
  {
   "cell_type": "markdown",
   "id": "1dc51e88",
   "metadata": {},
   "source": [
    "# Task2. Naive Bayes Model for Text Classification\n",
    "•\tSplit the data into training and test sets.\n",
    "\n",
    "•\tImplement a Naive Bayes classifier to categorize the blog posts into their respective categories. You can use libraries like scikit-learn for this purpose.\n",
    "\n",
    "•\tTrain the model on the training set and make predictions on the test set.\n"
   ]
  },
  {
   "cell_type": "code",
   "execution_count": 14,
   "id": "bbbd9321",
   "metadata": {},
   "outputs": [],
   "source": [
    "# Spliting the data into training and test sets (80% train, 20% test)\n",
    "from sklearn.model_selection import train_test_split\n",
    "X_train, X_test, y_train, y_test = train_test_split(X, y, test_size=0.2, random_state=42)"
   ]
  },
  {
   "cell_type": "code",
   "execution_count": 15,
   "id": "1c004d5b",
   "metadata": {},
   "outputs": [],
   "source": [
    "# Naive Bayes \n",
    "from sklearn.naive_bayes import MultinomialNB\n",
    "nb = MultinomialNB()\n",
    "\n",
    "# Train the model on the training set\n",
    "nb.fit(X_train, y_train)\n",
    "\n",
    "# Making predictions on the test set\n",
    "pred = nb.predict(X_test)"
   ]
  },
  {
   "cell_type": "code",
   "execution_count": 16,
   "id": "fcc72950",
   "metadata": {},
   "outputs": [
    {
     "name": "stdout",
     "output_type": "stream",
     "text": [
      "Accuracy of the Naive Bayes model: 0.825\n",
      "\n",
      "Confusion Matrix:\n",
      " [[15  0  0  0  0  0  0  0  0  0  0  1  0  0  0  0  0  0  0  2]\n",
      " [ 0 15  1  1  0  0  0  0  0  0  1  0  0  0  0  0  0  0  0  0]\n",
      " [ 0  0 18  2  1  1  0  0  0  0  0  0  0  0  0  0  0  0  0  0]\n",
      " [ 0  0  1 19  0  0  1  0  0  0  0  0  4  0  0  0  0  0  0  0]\n",
      " [ 0  0  0  2 19  0  0  0  0  0  0  0  0  0  0  0  0  0  0  0]\n",
      " [ 0  2  0  1  0 21  0  0  0  1  0  0  0  0  0  0  0  0  0  0]\n",
      " [ 0  0  1  0  1  0 14  1  0  1  0  0  0  0  0  0  0  0  0  0]\n",
      " [ 0  0  0  0  0  0  0 17  1  0  0  0  0  0  0  0  0  0  0  0]\n",
      " [ 0  0  0  0  0  0  0  0 15  0  0  0  1  0  0  0  0  0  0  0]\n",
      " [ 0  0  0  0  0  0  0  0  0 17  1  0  0  0  0  0  0  0  0  0]\n",
      " [ 0  0  0  0  0  0  0  0  0  0 15  0  0  0  0  0  0  0  0  0]\n",
      " [ 0  0  0  0  0  0  0  0  0  0  0 18  0  0  0  0  0  0  1  0]\n",
      " [ 0  0  0  0  2  0  1  1  0  1  0  0 10  1  0  0  0  0  0  0]\n",
      " [ 0  1  0  0  0  1  0  0  0  0  0  0  0 15  0  0  0  0  0  0]\n",
      " [ 0  0  0  0  0  0  1  0  0  1  0  0  0  0 18  0  1  0  0  0]\n",
      " [ 1  0  0  0  0  0  0  0  0  0  0  0  0  0  0 22  0  0  0  0]\n",
      " [ 1  0  0  0  0  0  0  0  0  0  0  0  1  1  0  1 22  0  2  0]\n",
      " [ 1  0  0  0  0  0  0  0  0  1  0  0  0  0  0  0  0 18  0  0]\n",
      " [ 0  0  0  0  0  0  0  0  0  0  0  0  0  0  0  0  0  0 16  2]\n",
      " [12  0  0  0  0  0  0  0  0  0  0  0  0  0  0  2  3  0  1  6]]\n",
      "\n",
      "Classification Report:\n",
      "                           precision    recall  f1-score   support\n",
      "\n",
      "             alt.atheism       0.50      0.83      0.62        18\n",
      "           comp.graphics       0.83      0.83      0.83        18\n",
      " comp.os.ms-windows.misc       0.86      0.82      0.84        22\n",
      "comp.sys.ibm.pc.hardware       0.76      0.76      0.76        25\n",
      "   comp.sys.mac.hardware       0.83      0.90      0.86        21\n",
      "          comp.windows.x       0.91      0.84      0.87        25\n",
      "            misc.forsale       0.82      0.78      0.80        18\n",
      "               rec.autos       0.89      0.94      0.92        18\n",
      "         rec.motorcycles       0.94      0.94      0.94        16\n",
      "      rec.sport.baseball       0.77      0.94      0.85        18\n",
      "        rec.sport.hockey       0.88      1.00      0.94        15\n",
      "               sci.crypt       0.95      0.95      0.95        19\n",
      "         sci.electronics       0.62      0.62      0.62        16\n",
      "                 sci.med       0.88      0.88      0.88        17\n",
      "               sci.space       1.00      0.86      0.92        21\n",
      "  soc.religion.christian       0.88      0.96      0.92        23\n",
      "      talk.politics.guns       0.85      0.79      0.81        28\n",
      "   talk.politics.mideast       1.00      0.90      0.95        20\n",
      "      talk.politics.misc       0.80      0.89      0.84        18\n",
      "      talk.religion.misc       0.60      0.25      0.35        24\n",
      "\n",
      "                accuracy                           0.82       400\n",
      "               macro avg       0.83      0.83      0.82       400\n",
      "            weighted avg       0.83      0.82      0.82       400\n",
      "\n"
     ]
    }
   ],
   "source": [
    "# Evaluating the model\n",
    "from sklearn.metrics import accuracy_score, classification_report, confusion_matrix\n",
    "accuracy = accuracy_score(y_test, pred)\n",
    "conf_matrix = confusion_matrix(y_test, pred)\n",
    "class_report = classification_report(y_test, pred)\n",
    "\n",
    "print(\"Accuracy of the Naive Bayes model:\", accuracy)\n",
    "print(\"\\nConfusion Matrix:\\n\", conf_matrix)\n",
    "print(\"\\nClassification Report:\\n\", class_report)"
   ]
  },
  {
   "cell_type": "code",
   "execution_count": null,
   "id": "a6378fe1",
   "metadata": {},
   "outputs": [],
   "source": []
  },
  {
   "cell_type": "code",
   "execution_count": null,
   "id": "ba5657a1",
   "metadata": {},
   "outputs": [],
   "source": []
  },
  {
   "cell_type": "code",
   "execution_count": null,
   "id": "51b81671",
   "metadata": {},
   "outputs": [],
   "source": []
  },
  {
   "cell_type": "markdown",
   "id": "2aceb0ec",
   "metadata": {},
   "source": [
    "# Task3. Sentiment Analysis\n",
    "•\tChoose a suitable library or method for performing sentiment analysis on the blog post texts.\n",
    "\n",
    "•\tAnalyze the sentiments expressed in the blog posts and categorize them as positive, negative, or neutral. Consider only the     Data column and get the sentiment for each blog.\n",
    "\n",
    "•\tExamine the distribution of sentiments across different categories and summarize your findings.\n"
   ]
  },
  {
   "cell_type": "markdown",
   "id": "6cbdac17",
   "metadata": {},
   "source": [
    "- To perform sentiment analysis on the blog post texts, we will use libraries like VADER (Valence Aware Dictionary and sEntiment Reasoner) from the nltk package or TextBlob. "
   ]
  },
  {
   "cell_type": "code",
   "execution_count": 17,
   "id": "b0aaf1b5",
   "metadata": {},
   "outputs": [
    {
     "name": "stderr",
     "output_type": "stream",
     "text": [
      "[nltk_data] Downloading package vader_lexicon to\n",
      "[nltk_data]     C:\\Users\\Aabshaar\\AppData\\Roaming\\nltk_data...\n",
      "[nltk_data]   Package vader_lexicon is already up-to-date!\n"
     ]
    },
    {
     "name": "stdout",
     "output_type": "stream",
     "text": [
      "Sentiment Distribution Across Categories:\n",
      "Sentiment_Category        Negative  Neutral  Positive\n",
      "Labels                                               \n",
      "alt.atheism                     40        1        59\n",
      "comp.graphics                   10        3        87\n",
      "comp.os.ms-windows.misc         22        2        76\n",
      "comp.sys.ibm.pc.hardware        18        3        79\n",
      "comp.sys.mac.hardware           17        4        79\n",
      "comp.windows.x                  21        2        77\n",
      "misc.forsale                     8       10        82\n",
      "rec.autos                       26        3        71\n",
      "rec.motorcycles                 32        1        67\n",
      "rec.sport.baseball              24        3        73\n",
      "rec.sport.hockey                28        3        69\n",
      "sci.crypt                       22        2        76\n",
      "sci.electronics                 13        6        81\n",
      "sci.med                         28        2        70\n",
      "sci.space                       28        5        67\n",
      "soc.religion.christian          27        1        72\n",
      "talk.politics.guns              65        5        30\n",
      "talk.politics.mideast           68        0        32\n",
      "talk.politics.misc              52        5        43\n",
      "talk.religion.misc              32        2        66\n"
     ]
    },
    {
     "data": {
      "image/png": "[encoded data removed]",
      "text/plain": [
       "<Figure size 1000x700 with 1 Axes>"
      ]
     },
     "metadata": {},
     "output_type": "display_data"
    }
   ],
   "source": [
    "import nltk\n",
    "from nltk.sentiment import SentimentIntensityAnalyzer\n",
    "import seaborn as sns\n",
    "import matplotlib.pyplot as plt\n",
    "\n",
    "# Download the VADER lexicon if not already downloaded\n",
    "nltk.download('vader_lexicon')\n",
    "\n",
    "# Initialize the Sentiment Intensity Analyzer\n",
    "sia = SentimentIntensityAnalyzer()\n",
    "\n",
    "# Function to categorize sentiment\n",
    "def get_sentiment(score):\n",
    "    if score >= 0.05:\n",
    "        return 'Positive'\n",
    "    elif score <= -0.05:\n",
    "        return 'Negative'\n",
    "    else:\n",
    "        return 'Neutral'\n",
    "\n",
    "# Analyze sentiment for each blog post\n",
    "blog['Sentiment'] = blog['Data'].apply(lambda x: sia.polarity_scores(x)['compound'])\n",
    "blog['Sentiment_Category'] = blog['Sentiment'].apply(get_sentiment)\n",
    "\n",
    "# Examine the distribution of sentiments across different categories\n",
    "sentiment_distribution = pd.crosstab(blog['Labels'], blog['Sentiment_Category'])\n",
    "\n",
    "# Display the distribution\n",
    "print(\"Sentiment Distribution Across Categories:\")\n",
    "print(sentiment_distribution)\n",
    "\n",
    "# Plotting the sentiment distribution\n",
    "sentiment_distribution.plot(kind='bar', stacked=True, figsize=(10, 7))\n",
    "plt.title(\"Sentiment Distribution Across Blog Categories\")\n",
    "plt.xlabel(\"Blog Categories\")\n",
    "plt.ylabel(\"Number of Blog Posts\")\n",
    "plt.show()\n"
   ]
  },
  {
   "cell_type": "markdown",
   "id": "3064f264",
   "metadata": {},
   "source": [
    "## Observation\n",
    "\n",
    "- We have used the VADER sentiment analyzer from the `nltk` library to perform sentiment analysis on the blog post texts.\n",
    "\n",
    "- Categorized the sentiments into three categories: Positive, Negative, and Neutral.\n",
    "     - Positive: Sentiment score ≥ 0.05\n",
    "     - Negative: Sentiment score ≤ -0.05\n",
    "     - Neutral: Sentiment score between -0.05 and 0.05\n",
    "     \n",
    "- Analyzed the distribution of these sentiments across different blog categories.\n",
    "\n",
    "- We then visualized the sentiment distribution using a stacked bar plot to highlight the sentiment trends within each category.\n"
   ]
  },
  {
   "cell_type": "code",
   "execution_count": null,
   "id": "cda828c3",
   "metadata": {},
   "outputs": [],
   "source": []
  },
  {
   "cell_type": "code",
   "execution_count": null,
   "id": "cdb9b1ff",
   "metadata": {},
   "outputs": [],
   "source": []
  },
  {
   "cell_type": "code",
   "execution_count": null,
   "id": "8fe39f66",
   "metadata": {},
   "outputs": [],
   "source": []
  },
  {
   "cell_type": "markdown",
   "id": "d47c02b9",
   "metadata": {},
   "source": [
    "# Task4. Evaluation\n",
    "•\tEvaluate the performance of your Naive Bayes classifier using metrics such as accuracy, precision, recall, and F1-score.\n",
    "\n",
    "•\tDiscuss the performance of the model and any challenges encountered during the classification process.\n",
    "\n",
    "•\tReflect on the sentiment analysis results and their implications regarding the content of the blog posts.\n"
   ]
  },
  {
   "cell_type": "markdown",
   "id": "764720a3",
   "metadata": {},
   "source": [
    "### 1. Evaluation of Naive Bayes Classifier\n"
   ]
  },
  {
   "cell_type": "code",
   "execution_count": 18,
   "id": "6d1ec256",
   "metadata": {},
   "outputs": [
    {
     "name": "stdout",
     "output_type": "stream",
     "text": [
      "Accuracy of the Naive Bayes model: 0.825\n",
      "\n",
      "Classification Report:\n",
      "                           precision    recall  f1-score   support\n",
      "\n",
      "             alt.atheism       0.50      0.83      0.62        18\n",
      "           comp.graphics       0.83      0.83      0.83        18\n",
      " comp.os.ms-windows.misc       0.86      0.82      0.84        22\n",
      "comp.sys.ibm.pc.hardware       0.76      0.76      0.76        25\n",
      "   comp.sys.mac.hardware       0.83      0.90      0.86        21\n",
      "          comp.windows.x       0.91      0.84      0.87        25\n",
      "            misc.forsale       0.82      0.78      0.80        18\n",
      "               rec.autos       0.89      0.94      0.92        18\n",
      "         rec.motorcycles       0.94      0.94      0.94        16\n",
      "      rec.sport.baseball       0.77      0.94      0.85        18\n",
      "        rec.sport.hockey       0.88      1.00      0.94        15\n",
      "               sci.crypt       0.95      0.95      0.95        19\n",
      "         sci.electronics       0.62      0.62      0.62        16\n",
      "                 sci.med       0.88      0.88      0.88        17\n",
      "               sci.space       1.00      0.86      0.92        21\n",
      "  soc.religion.christian       0.88      0.96      0.92        23\n",
      "      talk.politics.guns       0.85      0.79      0.81        28\n",
      "   talk.politics.mideast       1.00      0.90      0.95        20\n",
      "      talk.politics.misc       0.80      0.89      0.84        18\n",
      "      talk.religion.misc       0.60      0.25      0.35        24\n",
      "\n",
      "                accuracy                           0.82       400\n",
      "               macro avg       0.83      0.83      0.82       400\n",
      "            weighted avg       0.83      0.82      0.82       400\n",
      "\n"
     ]
    }
   ],
   "source": [
    "# Calculate accuracy, precision, recall, and F1-score\n",
    "accuracy = accuracy_score(y_test, pred)\n",
    "class_report = classification_report(y_test, pred)\n",
    "\n",
    "print(\"Accuracy of the Naive Bayes model:\", accuracy)\n",
    "print(\"\\nClassification Report:\\n\", class_report)\n"
   ]
  },
  {
   "cell_type": "markdown",
   "id": "65b8e336",
   "metadata": {},
   "source": [
    "### Task 4: Evaluation\n",
    "\n",
    "#### **Model Performance and Challenges**\n",
    "\n",
    "- **Overall Performance**: The Naive Bayes classifier achieved an accuracy of 82.5%, indicating that the model performed reasonably well in classifying the blog posts into their respective categories.\n",
    "\n",
    "- **Strengths**:\n",
    "  - Categories like `rec.motorcycles`, `rec.sport.hockey`, and `sci.crypt` exhibited high precision, recall, and F1-scores, reflecting the model's strong performance in distinguishing these topics.\n",
    "  \n",
    "- **Challenges**:\n",
    "  - **Imbalanced Categories**: The model struggled with categories such as `alt.atheism` and `talk.religion.misc`, which had lower precision and recall. This suggests that the model may have difficulty in distinguishing between categories with overlapping or complex features.\n",
    "  - **Low-Performing Categories**: The `talk.religion.misc` category, in particular, had the lowest F1-score, indicating significant challenges in correctly classifying blog posts related to this topic.\n",
    "\n",
    "#### **Reflection on Sentiment Analysis Results**\n",
    "\n",
    "- **Positive Sentiment Dominance**: Categories like `comp.graphics`, `misc.forsale`, and `sci.electronics` were predominantly positive, suggesting that content related to technology and commerce tends to be well-received by readers.\n",
    "\n",
    "- **Negative Sentiment Prevalence**: Categories such as `talk.politics.guns` and `talk.politics.mideast` had higher proportions of negative sentiment. This indicates that these topics may be more contentious or evoke stronger negative reactions from readers.\n",
    "\n",
    "- **Implications**:\n",
    "  - **Content Strategy**: The sentiment analysis provides valuable insights for content creators. Positive sentiment dominance in certain categories suggests that readers find these topics engaging or enjoyable. Conversely, the prevalence of negative sentiment in political categories could guide content creators to approach these topics with sensitivity or balance.\n",
    "  - **Audience Engagement**: Understanding the sentiment distribution across categories can help tailor content to better align with reader preferences, potentially improving engagement and satisfaction.\n",
    "\n"
   ]
  },
  {
   "cell_type": "code",
   "execution_count": null,
   "id": "e158e49a",
   "metadata": {},
   "outputs": [],
   "source": []
  },
  {
   "cell_type": "markdown",
   "id": "467f8eb6",
   "metadata": {},
   "source": [
    "# Thank You!"
   ]
  },
  {
   "cell_type": "markdown",
   "id": "344e070c",
   "metadata": {},
   "source": [
    "# --------------------------------------------------------------------------------------------------------------"
   ]
  }
 ],
 "metadata": {
  "kernelspec": {
   "display_name": "Python 3 (ipykernel)",
   "language": "python",
   "name": "python3"
  },
  "language_info": {
   "codemirror_mode": {
    "name": "ipython",
    "version": 3
   },
   "file_extension": ".py",
   "mimetype": "text/x-python",
   "name": "python",
   "nbconvert_exporter": "python",
   "pygments_lexer": "ipython3",
   "version": "3.9.13"
  }
 },
 "nbformat": 4,
 "nbformat_minor": 5
}
