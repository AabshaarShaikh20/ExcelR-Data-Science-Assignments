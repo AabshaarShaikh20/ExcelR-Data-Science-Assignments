{
 "cells": [
  {
   "cell_type": "markdown",
   "id": "b4f8583e",
   "metadata": {},
   "source": [
    "# <span style=\"color:green\">Basic stats - 2"
   ]
  },
  {
   "cell_type": "code",
   "execution_count": null,
   "id": "59bfb7f2",
   "metadata": {},
   "outputs": [],
   "source": []
  },
  {
   "cell_type": "markdown",
   "id": "650eae87",
   "metadata": {},
   "source": [
    "# Part a: Uses the t-distribution because the population standard deviation is unknown, and the sample size is small.\n"
   ]
  },
  {
   "cell_type": "code",
   "execution_count": 3,
   "id": "7dbca378",
   "metadata": {},
   "outputs": [
    {
     "name": "stdout",
     "output_type": "stream",
     "text": [
      "Part a: 99% Confidence Interval using sample standard deviation (t-distribution):\n",
      "Sample Mean: 1.2387 million characters\n",
      "Sample Standard Deviation: 0.1932 million characters\n",
      "t-critical value: 2.9768\n",
      "Margin of Error: 0.1485 million characters\n",
      "Confidence Interval: (1.0902, 1.3871) million characters\n",
      "\n"
     ]
    }
   ],
   "source": [
    "import numpy as np\n",
    "from scipy import stats\n",
    "\n",
    "# Given data\n",
    "durabilities = np.array([\n",
    "    1.13, 1.55, 1.43, 0.92, 1.25, 1.36,\n",
    "    1.32, 0.85, 1.07, 1.48, 1.20, 1.33,\n",
    "    1.18, 1.22, 1.29\n",
    "])\n",
    "\n",
    "n = len(durabilities)\n",
    "alpha = 0.01  # For 99% confidence interval\n",
    "\n",
    "# Part a: Using sample standard deviation and t-distribution\n",
    "# Calculate sample mean and sample standard deviation\n",
    "sample_mean = np.mean(durabilities)\n",
    "sample_std = np.std(durabilities, ddof=1)  # ddof=1 for sample std\n",
    "\n",
    "# Degrees of freedom\n",
    "df = n - 1\n",
    "\n",
    "# t critical value for two-tailed test\n",
    "t_critical = stats.t.ppf(1 - alpha/2, df)\n",
    "\n",
    "# Margin of error\n",
    "margin_error_t = t_critical * (sample_std / np.sqrt(n))\n",
    "\n",
    "# Confidence interval\n",
    "ci_lower_t = sample_mean - margin_error_t\n",
    "ci_upper_t = sample_mean + margin_error_t\n",
    "\n",
    "print(\"Part a: 99% Confidence Interval using sample standard deviation (t-distribution):\")\n",
    "print(f\"Sample Mean: {sample_mean:.4f} million characters\")\n",
    "print(f\"Sample Standard Deviation: {sample_std:.4f} million characters\")\n",
    "print(f\"t-critical value: {t_critical:.4f}\")\n",
    "print(f\"Margin of Error: {margin_error_t:.4f} million characters\")\n",
    "print(f\"Confidence Interval: ({ci_lower_t:.4f}, {ci_upper_t:.4f}) million characters\\n\")"
   ]
  },
  {
   "cell_type": "code",
   "execution_count": null,
   "id": "a5056dc3",
   "metadata": {},
   "outputs": [],
   "source": []
  },
  {
   "cell_type": "markdown",
   "id": "06350101",
   "metadata": {},
   "source": [
    "# Part b: Uses the z-distribution because the population standard deviation is known."
   ]
  },
  {
   "cell_type": "code",
   "execution_count": 4,
   "id": "ce38a4ce",
   "metadata": {},
   "outputs": [
    {
     "name": "stdout",
     "output_type": "stream",
     "text": [
      "Part b: 99% Confidence Interval using known population standard deviation (z-distribution):\n",
      "Sample Mean: 1.2387 million characters\n",
      "Population Standard Deviation: 0.2000 million characters\n",
      "z-critical value: 2.5758\n",
      "Margin of Error: 0.1330 million characters\n",
      "Confidence Interval: (1.1057, 1.3717) million characters)\n"
     ]
    }
   ],
   "source": [
    "# Part b: Using known population standard deviation and z-distribution\n",
    "# Given population standard deviation\n",
    "sigma = 0.2  # million characters\n",
    "\n",
    "# z critical value for two-tailed test\n",
    "z_critical = stats.norm.ppf(1 - alpha/2)\n",
    "\n",
    "# Margin of error\n",
    "margin_error_z = z_critical * (sigma / np.sqrt(n))\n",
    "\n",
    "# Confidence interval\n",
    "ci_lower_z = sample_mean - margin_error_z\n",
    "ci_upper_z = sample_mean + margin_error_z\n",
    "\n",
    "print(\"Part b: 99% Confidence Interval using known population standard deviation (z-distribution):\")\n",
    "print(f\"Sample Mean: {sample_mean:.4f} million characters\")\n",
    "print(f\"Population Standard Deviation: {sigma:.4f} million characters\")\n",
    "print(f\"z-critical value: {z_critical:.4f}\")\n",
    "print(f\"Margin of Error: {margin_error_z:.4f} million characters\")\n",
    "print(f\"Confidence Interval: ({ci_lower_z:.4f}, {ci_upper_z:.4f}) million characters)\")"
   ]
  },
  {
   "cell_type": "code",
   "execution_count": null,
   "id": "b7c41104",
   "metadata": {},
   "outputs": [],
   "source": []
  },
  {
   "cell_type": "code",
   "execution_count": null,
   "id": "3897e7c5",
   "metadata": {},
   "outputs": [],
   "source": []
  },
  {
   "cell_type": "markdown",
   "id": "688a8c02",
   "metadata": {},
   "source": [
    "# Code Overview\n",
    "\n",
    "1. **Imports**:\n",
    "   - `numpy` for basic calculations.\n",
    "   - `scipy.stats` for statistical functions.\n",
    "\n",
    "2. **Data**:\n",
    "   - An array of 15 print-head durability values in millions of characters.\n",
    "\n",
    "3. **Common Calculations**:\n",
    "   - `sample_mean`: Average durability.\n",
    "   - `sample_std`: Standard deviation of the sample.\n",
    "   - `n`: Number of samples.\n",
    "   - `alpha = 0.01`: Significance level for a 99% confidence interval.\n",
    "\n",
    "### Part a: Confidence Interval Using Sample Standard Deviation (t-distribution)\n",
    "- **t_critical**: Obtains the critical value from the t-distribution.\n",
    "- **Margin of Error**: Calculated using `t_critical` and the sample standard deviation.\n",
    "- **Confidence Interval**: `sample_mean ± margin_error_t`.\n",
    "\n",
    "### Part b: Confidence Interval Using Known Population Standard Deviation (z-distribution)\n",
    "- **z_critical**: Obtains the critical value from the z-distribution.\n",
    "- **Margin of Error**: Calculated using `z_critical` and the known population standard deviation (0.2).\n",
    "- **Confidence Interval**: `sample_mean ± margin_error_z`.\n",
    "\n",
    "### Output\n",
    "- **Prints**: The 99% confidence intervals for both methods."
   ]
  },
  {
   "cell_type": "code",
   "execution_count": null,
   "id": "2a1dd9e8",
   "metadata": {},
   "outputs": [],
   "source": []
  },
  {
   "cell_type": "markdown",
   "id": "8c5cd6c4",
   "metadata": {},
   "source": [
    "# Thank You!"
   ]
  },
  {
   "cell_type": "markdown",
   "id": "8071f556",
   "metadata": {},
   "source": [
    "# ---------------------------------------------------------------------------------------------------------"
   ]
  }
 ],
 "metadata": {
  "kernelspec": {
   "display_name": "Python 3 (ipykernel)",
   "language": "python",
   "name": "python3"
  },
  "language_info": {
   "codemirror_mode": {
    "name": "ipython",
    "version": 3
   },
   "file_extension": ".py",
   "mimetype": "text/x-python",
   "name": "python",
   "nbconvert_exporter": "python",
   "pygments_lexer": "ipython3",
   "version": "3.9.13"
  }
 },
 "nbformat": 4,
 "nbformat_minor": 5
}
